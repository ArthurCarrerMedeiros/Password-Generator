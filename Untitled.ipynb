{
 "cells": [
  {
   "cell_type": "code",
   "execution_count": 40,
   "id": "2ce690aa",
   "metadata": {},
   "outputs": [],
   "source": [
    "from random import choice as ch\n",
    "\n",
    "def valid_characters():\n",
    "    return \"abcdefghijklmnopqrstuvwxyzABCDEFGHIJKLMNOPQRSTUVWXYZ1234567890!@#$%^&*()\"\n",
    "\n",
    "def generate_password(lenght):\n",
    "    password = ''\n",
    "    \n",
    "    for _ in range(lenght):\n",
    "        password += ch(valid_characters())\n",
    "    return password"
   ]
  },
  {
   "cell_type": "code",
   "execution_count": 41,
   "id": "3b365a5d",
   "metadata": {
    "scrolled": true
   },
   "outputs": [
    {
     "name": "stdout",
     "output_type": "stream",
     "text": [
      "Write a number of characters that you want to create your password: 5\n",
      "8iJ3J\n"
     ]
    }
   ],
   "source": [
    "password = ''\n",
    "password_len = int(input('Write a number of characters that you want to create your password: '))\n",
    "characters = valid_characters()\n",
    "\n",
    "print(generate_password(password_len))"
   ]
  },
  {
   "cell_type": "code",
   "execution_count": null,
   "id": "00418b9f",
   "metadata": {},
   "outputs": [],
   "source": []
  }
 ],
 "metadata": {
  "kernelspec": {
   "display_name": "Python 3 (ipykernel)",
   "language": "python",
   "name": "python3"
  },
  "language_info": {
   "codemirror_mode": {
    "name": "ipython",
    "version": 3
   },
   "file_extension": ".py",
   "mimetype": "text/x-python",
   "name": "python",
   "nbconvert_exporter": "python",
   "pygments_lexer": "ipython3",
   "version": "3.11.5"
  }
 },
 "nbformat": 4,
 "nbformat_minor": 5
}
