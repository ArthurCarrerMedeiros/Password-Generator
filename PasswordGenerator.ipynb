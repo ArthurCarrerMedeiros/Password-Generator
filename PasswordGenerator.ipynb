{
 "cells": [
  {
   "cell_type": "code",
   "execution_count": null,
   "id": "bb276e1c",
   "metadata": {},
   "outputs": [],
   "source": [
    "from random import choice as ch\n",
    "from re import search as se\n",
    "\n",
    "def valid_characters():\n",
    "    return \"abcdefghijklmnopqrstuvwxyzABCDEFGHIJKLMNOPQRSTUVWXYZ1234567890!@#$%^&*()\"\n",
    "\n",
    "def generate_password(lenght):\n",
    "    password = ''\n",
    "    while not verify_password(password):\n",
    "        password = ''\n",
    "        for _ in range(lenght):\n",
    "            password += ch(valid_characters())\n",
    "            \n",
    "    return password\n",
    "\n",
    "def verify_password(password):\n",
    "    return se(r'^[A-Z\\W]+', password)"
   ]
  },
  {
   "cell_type": "code",
   "execution_count": null,
   "id": "f2138648",
   "metadata": {
    "scrolled": true
   },
   "outputs": [],
   "source": [
    "password = ''\n",
    "password_len = int(input('Write a number of characters that you want to create your password \\nChoose at least 5 characters: '))\n",
    "characters = valid_characters()\n",
    "\n",
    "print(generate_password(password_len))"
   ]
  },
  {
   "cell_type": "code",
   "execution_count": null,
   "id": "8c67edbc",
   "metadata": {},
   "outputs": [],
   "source": []
  }
 ],
 "metadata": {
  "kernelspec": {
   "display_name": "Python 3 (ipykernel)",
   "language": "python",
   "name": "python3"
  },
  "language_info": {
   "codemirror_mode": {
    "name": "ipython",
    "version": 3
   },
   "file_extension": ".py",
   "mimetype": "text/x-python",
   "name": "python",
   "nbconvert_exporter": "python",
   "pygments_lexer": "ipython3",
   "version": "3.11.5"
  }
 },
 "nbformat": 4,
 "nbformat_minor": 5
}
